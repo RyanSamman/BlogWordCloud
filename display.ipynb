{
 "metadata": {
  "language_info": {
   "codemirror_mode": {
    "name": "ipython",
    "version": 3
   },
   "file_extension": ".py",
   "mimetype": "text/x-python",
   "name": "python",
   "nbconvert_exporter": "python",
   "pygments_lexer": "ipython3",
   "version": "3.8.5-final"
  },
  "orig_nbformat": 2,
  "kernelspec": {
   "name": "python_defaultSpec_1601799404037",
   "display_name": "Python 3.8.5 32-bit"
  }
 },
 "nbformat": 4,
 "nbformat_minor": 2,
 "cells": [
  {
   "cell_type": "code",
   "execution_count": 7,
   "metadata": {},
   "outputs": [],
   "source": [
    "import json # Library for parsing JSON files\n",
    "from os import path\n",
    "from PIL import Image # Python Image Library\n",
    "\n",
    "import numpy as np # Faster data structures \n",
    "import matplotlib.pyplot as plt # Used to display charts\n",
    "from wordcloud import WordCloud, ImageColorGenerator\n",
    "\n",
    "# Load Word/Frequency Data\n",
    "with open(\"processedData.json\", \"r\") as file:\n",
    "    wordAndFrequencyData = json.load(file)\n",
    "\n",
    "# Load Image which text will be superimposed onto\n",
    "imageMask = np.array(Image.open(path.join(\"images\", \"FCITLogo.jpg\")))\n",
    "\n",
    "# Generate colors from Image\n",
    "imageColors = ImageColorGenerator(imageMask)"
   ]
  },
  {
   "source": [
    "# Create WordCloud object with image\n",
    "wordCloudObject = WordCloud(scale=10, background_color=\"white\", mask=imageMask) \n",
    "\n",
    "# Pass in Word: Frequency to be displayed\n",
    "wordCloudObject.generate_from_frequencies(wordAndFrequencyData)\n",
    "\n",
    "# Add the Color data to the Word Cloud\n",
    "wordCloudObject.recolor(color_func=imageColors)\n",
    "\n",
    "# Remove Axis markings\n",
    "plt.axis(\"off\")\n",
    "\n",
    "# Display as Matplotlib Chart\n",
    "plt.imshow(wordCloudObject, interpolation=\"bilinear\")\n",
    "plt.show()\n"
   ],
   "cell_type": "code",
   "metadata": {},
   "execution_count": null,
   "outputs": []
  },
  {
   "cell_type": "code",
   "execution_count": null,
   "metadata": {},
   "outputs": [],
   "source": []
  }
 ]
}