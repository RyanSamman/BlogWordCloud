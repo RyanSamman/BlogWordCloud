{
 "metadata": {
  "language_info": {
   "codemirror_mode": {
    "name": "ipython",
    "version": 3
   },
   "file_extension": ".py",
   "mimetype": "text/x-python",
   "name": "python",
   "nbconvert_exporter": "python",
   "pygments_lexer": "ipython3",
   "version": "3.8.5-final"
  },
  "orig_nbformat": 2,
  "kernelspec": {
   "name": "python_defaultSpec_1601757690469",
   "display_name": "Python 3.8.5 32-bit"
  }
 },
 "nbformat": 4,
 "nbformat_minor": 2,
 "cells": [
  {
   "cell_type": "code",
   "execution_count": 11,
   "metadata": {
    "tags": []
   },
   "outputs": [],
   "source": [
    "# Start driver\n",
    "import json\n",
    "from time import sleep\n",
    "from selenium import webdriver\n",
    "\n",
    "driver = webdriver.Chrome()"
   ]
  },
  {
   "cell_type": "code",
   "execution_count": 12,
   "metadata": {},
   "outputs": [],
   "source": [
    "# Go to website\n",
    "driver.get(\"https://lms.kau.edu.sa\")\n",
    "# Then, Manually Login, and move to the weekly writing page"
   ]
  },
  {
   "cell_type": "code",
   "execution_count": 3,
   "metadata": {},
   "outputs": [],
   "source": [
    "def openList():\n",
    "    # Open Menu \n",
    "    driver.find_element_by_xpath(\"/html/body/div[5]/div[2]/div/div/div/div/div[3]/div/div[2]/div[4]/div/button\").click()\n",
    "\n",
    "def getBlogs():\n",
    "    # Get List Element containing all the blog links\n",
    "    blogList = driver.find_element_by_xpath(\"/html/body/div[5]/div[2]/div/div/div/div/div[3]/div/div[2]/div[4]/div/ul\")\n",
    "\n",
    "    # Retrieve children of <ul> element\n",
    "    return blogList.find_elements_by_class_name(\"user\")\n",
    "\n",
    "def getLinks(blgs):\n",
    "    # Retrieve anchor links in every list element\n",
    "    return [e.find_element_by_tag_name(\"a\").get_property(\"href\") for e in blgs]"
   ]
  },
  {
   "cell_type": "code",
   "execution_count": 4,
   "metadata": {},
   "outputs": [],
   "source": [
    "openList() # Open blogs menu"
   ]
  },
  {
   "cell_type": "code",
   "execution_count": 5,
   "metadata": {
    "tags": []
   },
   "outputs": [],
   "source": [
    "blogs = getBlogs()\n",
    "blogLinks = getLinks(blogs)"
   ]
  },
  {
   "cell_type": "code",
   "execution_count": 7,
   "metadata": {},
   "outputs": [],
   "source": [
    "def loadPageAndScrapeBlog(url):\n",
    "    sleep(2) # Sleep while the previous page loads\n",
    "    driver.get(url) # Redirect to blog URL\n",
    "    e = driver.find_elements_by_class_name(\"entryText\") # Select the element containing the blog text\n",
    "    return e[0].text # Obtain the raw text from the latest blog element"
   ]
  },
  {
   "cell_type": "code",
   "execution_count": 10,
   "metadata": {},
   "outputs": [],
   "source": [
    "blogTexts = [loadPageAndScrapeBlog(url) for url in blogLinks] # Repeat for every URL"
   ]
  },
  {
   "cell_type": "code",
   "execution_count": null,
   "metadata": {},
   "outputs": [],
   "source": [
    "def saveData(data):\n",
    "    with open(\"rawBlogText.json\", 'w') as file:\n",
    "        json.dump(data, file, indent=2)"
   ]
  },
  {
   "cell_type": "code",
   "execution_count": null,
   "metadata": {},
   "outputs": [],
   "source": [
    "saveData(blogTexts)"
   ]
  }
 ]
}