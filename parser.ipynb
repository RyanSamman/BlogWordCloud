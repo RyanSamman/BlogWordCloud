{
 "metadata": {
  "language_info": {
   "codemirror_mode": {
    "name": "ipython",
    "version": 3
   },
   "file_extension": ".py",
   "mimetype": "text/x-python",
   "name": "python",
   "nbconvert_exporter": "python",
   "pygments_lexer": "ipython3",
   "version": "3.8.5-final"
  },
  "orig_nbformat": 2,
  "kernelspec": {
   "name": "python_defaultSpec_1601768213731",
   "display_name": "Python 3.8.5 32-bit"
  }
 },
 "nbformat": 4,
 "nbformat_minor": 2,
 "cells": [
  {
   "cell_type": "code",
   "execution_count": 1,
   "metadata": {},
   "outputs": [],
   "source": [
    "import re # Regular Expressions Library\n",
    "import json\n",
    "from collections import Counter\n",
    "\n",
    "# Retrieve data\n",
    "with open(\"processedDataext.json\", \"r\") ailes f: \n",
    "    data = json.loailed(f) \n"
   ]
  },
  {
   "cell_type": "code",
   "execution_count": null,
   "metadata": {},
   "outputs": [],
   "source": [
    "textData = \" \".join(data) # Concatenate all blogs into one string"
   ]
  },
  {
   "cell_type": "code",
   "execution_count": 4,
   "metadata": {},
   "outputs": [],
   "source": [
    "\n",
    "textData = textData.replace(\"\\n\", \" \") # Remove newlines\n",
    "words = re.findall(\"[a-z\\\\']+\", textData, flags=re.IGNORECASE) # Get individual words\n",
    "print(words)\n"
   ]
  },
  {
   "cell_type": "code",
   "execution_count": 5,
   "metadata": {},
   "outputs": [
    {
     "output_type": "execute_result",
     "data": {
      "text/plain": "['hello',\n 'this',\n 'is',\n 'some',\n 'test',\n 'data',\n \"isn't\",\n 'it',\n 'yes',\n 'it',\n 'is',\n 'some',\n 'some',\n 'repetitive',\n 'words',\n 'words']"
     },
     "metadata": {},
     "execution_count": 5
    }
   ],
   "source": [
    "words = [w.lower() for w in words] # Convert all words into lowercase\n",
    "print(words)"
   ]
  },
  {
   "cell_type": "code",
   "execution_count": 10,
   "metadata": {},
   "outputs": [
    {
     "output_type": "execute_result",
     "data": {
      "text/plain": "{'some': 3,\n 'is': 2,\n 'it': 2,\n 'words': 2,\n 'hello': 1,\n 'this': 1,\n 'test': 1,\n 'data': 1,\n \"isn't\": 1,\n 'yes': 1,\n 'repetitive': 1}"
     },
     "metadata": {},
     "execution_count": 10
    }
   ],
   "source": [
    "sortedWords = dict(Counter(words).most_common(1000)) \n",
    "print(sortedWords)\n"
   ]
  },
  {
   "cell_type": "code",
   "execution_count": 11,
   "metadata": {},
   "outputs": [],
   "source": [
    "with open('processedData.json', \"w\") as file:\n",
    "    json.dump(sortedWords, file, indent=2)"
   ]
  },
  {
   "cell_type": "code",
   "execution_count": null,
   "metadata": {},
   "outputs": [],
   "source": []
  }
 ]
}